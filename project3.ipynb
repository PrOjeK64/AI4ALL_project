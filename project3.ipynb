{
    "cells": [
        {
            "attachments": {},
            "cell_type": "markdown",
            "metadata": {},
            "source": [
                "This code is an introduction to supervised learning solving a classification problem using **decision trees**.\n",
                "It follows [this tutorial](https://youtu.be/7eh4d6sabA0). "
            ]
        },
        {
            "attachments": {},
            "cell_type": "markdown",
            "metadata": {},
            "source": [
                "# **Classification Problem**\n",
                "We will follow these steps of solving a machine learning problem.\n",
                "\n",
                "\n",
                "1. Import the Data\n",
                "2. Clean the Data\n",
                "3. split the Data into Training/ Test steps\n",
                "4. Create a Model\n",
                "5. Train the Model\n",
                "6. Make Predictions\n",
                "7. Evaluate and improve\n"
            ]
        },
        {
            "attachments": {},
            "cell_type": "markdown",
            "metadata": {},
            "source": []
        },
        {
            "cell_type": "code",
            "execution_count": 1,
            "metadata": {},
            "outputs": [],
            "source": [
                "import pandas as pd\n",
                "data = pd.read_csv('miami-housing.csv')"
            ]
        },
        {
            "cell_type": "code",
            "execution_count": 2,
            "metadata": {},
            "outputs": [
                {
                    "data": {
                        "text/html": [
                            "<div>\n",
                            "<style scoped>\n",
                            "    .dataframe tbody tr th:only-of-type {\n",
                            "        vertical-align: middle;\n",
                            "    }\n",
                            "\n",
                            "    .dataframe tbody tr th {\n",
                            "        vertical-align: top;\n",
                            "    }\n",
                            "\n",
                            "    .dataframe thead th {\n",
                            "        text-align: right;\n",
                            "    }\n",
                            "</style>\n",
                            "<table border=\"1\" class=\"dataframe\">\n",
                            "  <thead>\n",
                            "    <tr style=\"text-align: right;\">\n",
                            "      <th></th>\n",
                            "      <th>LATITUDE</th>\n",
                            "      <th>LONGITUDE</th>\n",
                            "      <th>PARCELNO</th>\n",
                            "      <th>SALE_PRC</th>\n",
                            "      <th>LND_SQFOOT</th>\n",
                            "      <th>TOT_LVG_AREA</th>\n",
                            "      <th>SPEC_FEAT_VAL</th>\n",
                            "      <th>RAIL_DIST</th>\n",
                            "      <th>OCEAN_DIST</th>\n",
                            "      <th>WATER_DIST</th>\n",
                            "      <th>CNTR_DIST</th>\n",
                            "      <th>SUBCNTR_DI</th>\n",
                            "      <th>HWY_DIST</th>\n",
                            "      <th>age</th>\n",
                            "      <th>avno60plus</th>\n",
                            "      <th>month_sold</th>\n",
                            "      <th>structure_quality</th>\n",
                            "    </tr>\n",
                            "  </thead>\n",
                            "  <tbody>\n",
                            "    <tr>\n",
                            "      <th>0</th>\n",
                            "      <td>25.891031</td>\n",
                            "      <td>-80.160561</td>\n",
                            "      <td>622280070620</td>\n",
                            "      <td>440000.0</td>\n",
                            "      <td>9375</td>\n",
                            "      <td>1753</td>\n",
                            "      <td>0</td>\n",
                            "      <td>2815.9</td>\n",
                            "      <td>12811.4</td>\n",
                            "      <td>347.6</td>\n",
                            "      <td>42815.3</td>\n",
                            "      <td>37742.2</td>\n",
                            "      <td>15954.9</td>\n",
                            "      <td>67</td>\n",
                            "      <td>0</td>\n",
                            "      <td>8</td>\n",
                            "      <td>4</td>\n",
                            "    </tr>\n",
                            "    <tr>\n",
                            "      <th>1</th>\n",
                            "      <td>25.891324</td>\n",
                            "      <td>-80.153968</td>\n",
                            "      <td>622280100460</td>\n",
                            "      <td>349000.0</td>\n",
                            "      <td>9375</td>\n",
                            "      <td>1715</td>\n",
                            "      <td>0</td>\n",
                            "      <td>4359.1</td>\n",
                            "      <td>10648.4</td>\n",
                            "      <td>337.8</td>\n",
                            "      <td>43504.9</td>\n",
                            "      <td>37340.5</td>\n",
                            "      <td>18125.0</td>\n",
                            "      <td>63</td>\n",
                            "      <td>0</td>\n",
                            "      <td>9</td>\n",
                            "      <td>4</td>\n",
                            "    </tr>\n",
                            "    <tr>\n",
                            "      <th>2</th>\n",
                            "      <td>25.891334</td>\n",
                            "      <td>-80.153740</td>\n",
                            "      <td>622280100470</td>\n",
                            "      <td>800000.0</td>\n",
                            "      <td>9375</td>\n",
                            "      <td>2276</td>\n",
                            "      <td>49206</td>\n",
                            "      <td>4412.9</td>\n",
                            "      <td>10574.1</td>\n",
                            "      <td>297.1</td>\n",
                            "      <td>43530.4</td>\n",
                            "      <td>37328.7</td>\n",
                            "      <td>18200.5</td>\n",
                            "      <td>61</td>\n",
                            "      <td>0</td>\n",
                            "      <td>2</td>\n",
                            "      <td>4</td>\n",
                            "    </tr>\n",
                            "    <tr>\n",
                            "      <th>3</th>\n",
                            "      <td>25.891765</td>\n",
                            "      <td>-80.152657</td>\n",
                            "      <td>622280100530</td>\n",
                            "      <td>988000.0</td>\n",
                            "      <td>12450</td>\n",
                            "      <td>2058</td>\n",
                            "      <td>10033</td>\n",
                            "      <td>4585.0</td>\n",
                            "      <td>10156.5</td>\n",
                            "      <td>0.0</td>\n",
                            "      <td>43797.5</td>\n",
                            "      <td>37423.2</td>\n",
                            "      <td>18514.4</td>\n",
                            "      <td>63</td>\n",
                            "      <td>0</td>\n",
                            "      <td>9</td>\n",
                            "      <td>4</td>\n",
                            "    </tr>\n",
                            "    <tr>\n",
                            "      <th>4</th>\n",
                            "      <td>25.891825</td>\n",
                            "      <td>-80.154639</td>\n",
                            "      <td>622280100200</td>\n",
                            "      <td>755000.0</td>\n",
                            "      <td>12800</td>\n",
                            "      <td>1684</td>\n",
                            "      <td>16681</td>\n",
                            "      <td>4063.4</td>\n",
                            "      <td>10836.8</td>\n",
                            "      <td>326.6</td>\n",
                            "      <td>43599.7</td>\n",
                            "      <td>37550.8</td>\n",
                            "      <td>17903.4</td>\n",
                            "      <td>42</td>\n",
                            "      <td>0</td>\n",
                            "      <td>7</td>\n",
                            "      <td>4</td>\n",
                            "    </tr>\n",
                            "  </tbody>\n",
                            "</table>\n",
                            "</div>"
                        ],
                        "text/plain": [
                            "    LATITUDE  LONGITUDE      PARCELNO  SALE_PRC  LND_SQFOOT  TOT_LVG_AREA  \\\n",
                            "0  25.891031 -80.160561  622280070620  440000.0        9375          1753   \n",
                            "1  25.891324 -80.153968  622280100460  349000.0        9375          1715   \n",
                            "2  25.891334 -80.153740  622280100470  800000.0        9375          2276   \n",
                            "3  25.891765 -80.152657  622280100530  988000.0       12450          2058   \n",
                            "4  25.891825 -80.154639  622280100200  755000.0       12800          1684   \n",
                            "\n",
                            "   SPEC_FEAT_VAL  RAIL_DIST  OCEAN_DIST  WATER_DIST  CNTR_DIST  SUBCNTR_DI  \\\n",
                            "0              0     2815.9     12811.4       347.6    42815.3     37742.2   \n",
                            "1              0     4359.1     10648.4       337.8    43504.9     37340.5   \n",
                            "2          49206     4412.9     10574.1       297.1    43530.4     37328.7   \n",
                            "3          10033     4585.0     10156.5         0.0    43797.5     37423.2   \n",
                            "4          16681     4063.4     10836.8       326.6    43599.7     37550.8   \n",
                            "\n",
                            "   HWY_DIST  age  avno60plus  month_sold  structure_quality  \n",
                            "0   15954.9   67           0           8                  4  \n",
                            "1   18125.0   63           0           9                  4  \n",
                            "2   18200.5   61           0           2                  4  \n",
                            "3   18514.4   63           0           9                  4  \n",
                            "4   17903.4   42           0           7                  4  "
                        ]
                    },
                    "execution_count": 2,
                    "metadata": {},
                    "output_type": "execute_result"
                }
            ],
            "source": [
                "data.head()"
            ]
        },
        {
            "cell_type": "code",
            "execution_count": 4,
            "metadata": {},
            "outputs": [
                {
                    "data": {
                        "text/plain": [
                            "Index(['LATITUDE', 'LONGITUDE', 'PARCELNO', 'SALE_PRC', 'LND_SQFOOT',\n",
                            "       'TOT_LVG_AREA', 'SPEC_FEAT_VAL', 'RAIL_DIST', 'OCEAN_DIST',\n",
                            "       'WATER_DIST', 'CNTR_DIST', 'SUBCNTR_DI', 'HWY_DIST', 'age',\n",
                            "       'avno60plus', 'month_sold', 'structure_quality'],\n",
                            "      dtype='object')"
                        ]
                    },
                    "execution_count": 4,
                    "metadata": {},
                    "output_type": "execute_result"
                }
            ],
            "source": [
                "data.columns"
            ]
        },
        {
            "cell_type": "code",
            "execution_count": 6,
            "metadata": {},
            "outputs": [
                {
                    "data": {
                        "text/html": [
                            "<div>\n",
                            "<style scoped>\n",
                            "    .dataframe tbody tr th:only-of-type {\n",
                            "        vertical-align: middle;\n",
                            "    }\n",
                            "\n",
                            "    .dataframe tbody tr th {\n",
                            "        vertical-align: top;\n",
                            "    }\n",
                            "\n",
                            "    .dataframe thead th {\n",
                            "        text-align: right;\n",
                            "    }\n",
                            "</style>\n",
                            "<table border=\"1\" class=\"dataframe\">\n",
                            "  <thead>\n",
                            "    <tr style=\"text-align: right;\">\n",
                            "      <th></th>\n",
                            "      <th>LATITUDE</th>\n",
                            "      <th>LONGITUDE</th>\n",
                            "      <th>PARCELNO</th>\n",
                            "      <th>SALE_PRC</th>\n",
                            "      <th>LND_SQFOOT</th>\n",
                            "      <th>TOT_LVG_AREA</th>\n",
                            "      <th>SPEC_FEAT_VAL</th>\n",
                            "      <th>RAIL_DIST</th>\n",
                            "      <th>OCEAN_DIST</th>\n",
                            "      <th>WATER_DIST</th>\n",
                            "      <th>CNTR_DIST</th>\n",
                            "      <th>SUBCNTR_DI</th>\n",
                            "      <th>HWY_DIST</th>\n",
                            "      <th>age</th>\n",
                            "      <th>avno60plus</th>\n",
                            "      <th>month_sold</th>\n",
                            "      <th>structure_quality</th>\n",
                            "    </tr>\n",
                            "  </thead>\n",
                            "  <tbody>\n",
                            "    <tr>\n",
                            "      <th>count</th>\n",
                            "      <td>13932.000000</td>\n",
                            "      <td>13932.000000</td>\n",
                            "      <td>1.393200e+04</td>\n",
                            "      <td>1.393200e+04</td>\n",
                            "      <td>13932.000000</td>\n",
                            "      <td>13932.000000</td>\n",
                            "      <td>13932.000000</td>\n",
                            "      <td>13932.000000</td>\n",
                            "      <td>13932.000000</td>\n",
                            "      <td>13932.000000</td>\n",
                            "      <td>13932.000000</td>\n",
                            "      <td>13932.000000</td>\n",
                            "      <td>13932.000000</td>\n",
                            "      <td>13932.000000</td>\n",
                            "      <td>13932.000000</td>\n",
                            "      <td>13932.000000</td>\n",
                            "      <td>13932.000000</td>\n",
                            "    </tr>\n",
                            "    <tr>\n",
                            "      <th>mean</th>\n",
                            "      <td>25.728811</td>\n",
                            "      <td>-80.327475</td>\n",
                            "      <td>2.356496e+12</td>\n",
                            "      <td>3.999419e+05</td>\n",
                            "      <td>8620.879917</td>\n",
                            "      <td>2058.044574</td>\n",
                            "      <td>9562.493468</td>\n",
                            "      <td>8348.548715</td>\n",
                            "      <td>31690.993798</td>\n",
                            "      <td>11960.285235</td>\n",
                            "      <td>68490.327132</td>\n",
                            "      <td>41115.047265</td>\n",
                            "      <td>7723.770693</td>\n",
                            "      <td>30.669251</td>\n",
                            "      <td>0.014930</td>\n",
                            "      <td>6.655828</td>\n",
                            "      <td>3.513997</td>\n",
                            "    </tr>\n",
                            "    <tr>\n",
                            "      <th>std</th>\n",
                            "      <td>0.140633</td>\n",
                            "      <td>0.089199</td>\n",
                            "      <td>1.199290e+12</td>\n",
                            "      <td>3.172147e+05</td>\n",
                            "      <td>6070.088742</td>\n",
                            "      <td>813.538535</td>\n",
                            "      <td>13890.967782</td>\n",
                            "      <td>6178.027333</td>\n",
                            "      <td>17595.079468</td>\n",
                            "      <td>11932.992369</td>\n",
                            "      <td>32008.474808</td>\n",
                            "      <td>22161.825935</td>\n",
                            "      <td>6068.936108</td>\n",
                            "      <td>21.153068</td>\n",
                            "      <td>0.121276</td>\n",
                            "      <td>3.301523</td>\n",
                            "      <td>1.097444</td>\n",
                            "    </tr>\n",
                            "    <tr>\n",
                            "      <th>min</th>\n",
                            "      <td>25.434333</td>\n",
                            "      <td>-80.542172</td>\n",
                            "      <td>1.020008e+11</td>\n",
                            "      <td>7.200000e+04</td>\n",
                            "      <td>1248.000000</td>\n",
                            "      <td>854.000000</td>\n",
                            "      <td>0.000000</td>\n",
                            "      <td>10.500000</td>\n",
                            "      <td>236.100000</td>\n",
                            "      <td>0.000000</td>\n",
                            "      <td>3825.600000</td>\n",
                            "      <td>1462.800000</td>\n",
                            "      <td>90.200000</td>\n",
                            "      <td>0.000000</td>\n",
                            "      <td>0.000000</td>\n",
                            "      <td>1.000000</td>\n",
                            "      <td>1.000000</td>\n",
                            "    </tr>\n",
                            "    <tr>\n",
                            "      <th>25%</th>\n",
                            "      <td>25.620056</td>\n",
                            "      <td>-80.403278</td>\n",
                            "      <td>1.079160e+12</td>\n",
                            "      <td>2.350000e+05</td>\n",
                            "      <td>5400.000000</td>\n",
                            "      <td>1470.000000</td>\n",
                            "      <td>810.000000</td>\n",
                            "      <td>3299.450000</td>\n",
                            "      <td>18079.350000</td>\n",
                            "      <td>2675.850000</td>\n",
                            "      <td>42823.100000</td>\n",
                            "      <td>23996.250000</td>\n",
                            "      <td>2998.125000</td>\n",
                            "      <td>14.000000</td>\n",
                            "      <td>0.000000</td>\n",
                            "      <td>4.000000</td>\n",
                            "      <td>2.000000</td>\n",
                            "    </tr>\n",
                            "    <tr>\n",
                            "      <th>50%</th>\n",
                            "      <td>25.731810</td>\n",
                            "      <td>-80.338911</td>\n",
                            "      <td>3.040300e+12</td>\n",
                            "      <td>3.100000e+05</td>\n",
                            "      <td>7500.000000</td>\n",
                            "      <td>1877.500000</td>\n",
                            "      <td>2765.500000</td>\n",
                            "      <td>7106.300000</td>\n",
                            "      <td>28541.750000</td>\n",
                            "      <td>6922.600000</td>\n",
                            "      <td>65852.400000</td>\n",
                            "      <td>41109.900000</td>\n",
                            "      <td>6159.750000</td>\n",
                            "      <td>26.000000</td>\n",
                            "      <td>0.000000</td>\n",
                            "      <td>7.000000</td>\n",
                            "      <td>4.000000</td>\n",
                            "    </tr>\n",
                            "    <tr>\n",
                            "      <th>75%</th>\n",
                            "      <td>25.852269</td>\n",
                            "      <td>-80.258019</td>\n",
                            "      <td>3.060170e+12</td>\n",
                            "      <td>4.280000e+05</td>\n",
                            "      <td>9126.250000</td>\n",
                            "      <td>2471.000000</td>\n",
                            "      <td>12352.250000</td>\n",
                            "      <td>12102.600000</td>\n",
                            "      <td>44310.650000</td>\n",
                            "      <td>19200.000000</td>\n",
                            "      <td>89358.325000</td>\n",
                            "      <td>53949.375000</td>\n",
                            "      <td>10854.200000</td>\n",
                            "      <td>46.000000</td>\n",
                            "      <td>0.000000</td>\n",
                            "      <td>9.000000</td>\n",
                            "      <td>4.000000</td>\n",
                            "    </tr>\n",
                            "    <tr>\n",
                            "      <th>max</th>\n",
                            "      <td>25.974382</td>\n",
                            "      <td>-80.119746</td>\n",
                            "      <td>3.660170e+12</td>\n",
                            "      <td>2.650000e+06</td>\n",
                            "      <td>57064.000000</td>\n",
                            "      <td>6287.000000</td>\n",
                            "      <td>175020.000000</td>\n",
                            "      <td>29621.500000</td>\n",
                            "      <td>75744.900000</td>\n",
                            "      <td>50399.800000</td>\n",
                            "      <td>159976.500000</td>\n",
                            "      <td>110553.800000</td>\n",
                            "      <td>48167.300000</td>\n",
                            "      <td>96.000000</td>\n",
                            "      <td>1.000000</td>\n",
                            "      <td>12.000000</td>\n",
                            "      <td>5.000000</td>\n",
                            "    </tr>\n",
                            "  </tbody>\n",
                            "</table>\n",
                            "</div>"
                        ],
                        "text/plain": [
                            "           LATITUDE     LONGITUDE      PARCELNO      SALE_PRC    LND_SQFOOT  \\\n",
                            "count  13932.000000  13932.000000  1.393200e+04  1.393200e+04  13932.000000   \n",
                            "mean      25.728811    -80.327475  2.356496e+12  3.999419e+05   8620.879917   \n",
                            "std        0.140633      0.089199  1.199290e+12  3.172147e+05   6070.088742   \n",
                            "min       25.434333    -80.542172  1.020008e+11  7.200000e+04   1248.000000   \n",
                            "25%       25.620056    -80.403278  1.079160e+12  2.350000e+05   5400.000000   \n",
                            "50%       25.731810    -80.338911  3.040300e+12  3.100000e+05   7500.000000   \n",
                            "75%       25.852269    -80.258019  3.060170e+12  4.280000e+05   9126.250000   \n",
                            "max       25.974382    -80.119746  3.660170e+12  2.650000e+06  57064.000000   \n",
                            "\n",
                            "       TOT_LVG_AREA  SPEC_FEAT_VAL     RAIL_DIST    OCEAN_DIST    WATER_DIST  \\\n",
                            "count  13932.000000   13932.000000  13932.000000  13932.000000  13932.000000   \n",
                            "mean    2058.044574    9562.493468   8348.548715  31690.993798  11960.285235   \n",
                            "std      813.538535   13890.967782   6178.027333  17595.079468  11932.992369   \n",
                            "min      854.000000       0.000000     10.500000    236.100000      0.000000   \n",
                            "25%     1470.000000     810.000000   3299.450000  18079.350000   2675.850000   \n",
                            "50%     1877.500000    2765.500000   7106.300000  28541.750000   6922.600000   \n",
                            "75%     2471.000000   12352.250000  12102.600000  44310.650000  19200.000000   \n",
                            "max     6287.000000  175020.000000  29621.500000  75744.900000  50399.800000   \n",
                            "\n",
                            "           CNTR_DIST     SUBCNTR_DI      HWY_DIST           age    avno60plus  \\\n",
                            "count   13932.000000   13932.000000  13932.000000  13932.000000  13932.000000   \n",
                            "mean    68490.327132   41115.047265   7723.770693     30.669251      0.014930   \n",
                            "std     32008.474808   22161.825935   6068.936108     21.153068      0.121276   \n",
                            "min      3825.600000    1462.800000     90.200000      0.000000      0.000000   \n",
                            "25%     42823.100000   23996.250000   2998.125000     14.000000      0.000000   \n",
                            "50%     65852.400000   41109.900000   6159.750000     26.000000      0.000000   \n",
                            "75%     89358.325000   53949.375000  10854.200000     46.000000      0.000000   \n",
                            "max    159976.500000  110553.800000  48167.300000     96.000000      1.000000   \n",
                            "\n",
                            "         month_sold  structure_quality  \n",
                            "count  13932.000000       13932.000000  \n",
                            "mean       6.655828           3.513997  \n",
                            "std        3.301523           1.097444  \n",
                            "min        1.000000           1.000000  \n",
                            "25%        4.000000           2.000000  \n",
                            "50%        7.000000           4.000000  \n",
                            "75%        9.000000           4.000000  \n",
                            "max       12.000000           5.000000  "
                        ]
                    },
                    "execution_count": 6,
                    "metadata": {},
                    "output_type": "execute_result"
                }
            ],
            "source": [
                "data.describe()"
            ]
        },
        {
            "cell_type": "code",
            "execution_count": 3,
            "metadata": {},
            "outputs": [
                {
                    "data": {
                        "text/plain": [
                            "LATITUDE             False\n",
                            "LONGITUDE            False\n",
                            "PARCELNO             False\n",
                            "SALE_PRC             False\n",
                            "LND_SQFOOT           False\n",
                            "TOT_LVG_AREA         False\n",
                            "SPEC_FEAT_VAL        False\n",
                            "RAIL_DIST            False\n",
                            "OCEAN_DIST           False\n",
                            "WATER_DIST           False\n",
                            "CNTR_DIST            False\n",
                            "SUBCNTR_DI           False\n",
                            "HWY_DIST             False\n",
                            "age                  False\n",
                            "avno60plus           False\n",
                            "month_sold           False\n",
                            "structure_quality    False\n",
                            "dtype: bool"
                        ]
                    },
                    "execution_count": 3,
                    "metadata": {},
                    "output_type": "execute_result"
                }
            ],
            "source": [
                "pd.isnull(data).sum() > 0"
            ]
        },
        {
            "cell_type": "code",
            "execution_count": 4,
            "metadata": {},
            "outputs": [],
            "source": [
                "import seaborn as sns\n",
                "import matplotlib.pyplot as plt\n",
                "%matplotlib inline\n"
            ]
        },
        {
            "cell_type": "code",
            "execution_count": 11,
            "metadata": {},
            "outputs": [],
            "source": [
                "sns.set_theme(style='whitegrid')"
            ]
        },
        {
            "cell_type": "code",
            "execution_count": 84,
            "metadata": {},
            "outputs": [
                {
                    "data": {
                        "text/plain": [
                            "<seaborn.axisgrid.FacetGrid at 0x2384fb4d640>"
                        ]
                    },
                    "execution_count": 84,
                    "metadata": {},
                    "output_type": "execute_result"
                },
                {
                    "data": {
                        "image/png": "[encoded data removed]",
                        "text/plain": [
                            "<Figure size 360x360 with 1 Axes>"
                        ]
                    },
                    "metadata": {
                        "needs_background": "light"
                    },
                    "output_type": "display_data"
                }
            ],
            "source": [
                "sns.displot(data['SALE_PRC'])"
            ]
        },
        {
            "cell_type": "code",
            "execution_count": 13,
            "metadata": {},
            "outputs": [
                {
                    "data": {
                        "text/plain": [
                            "<AxesSubplot:>"
                        ]
                    },
                    "execution_count": 13,
                    "metadata": {},
                    "output_type": "execute_result"
                },
                {
                    "data": {
                        "image/png": "[encoded data removed]",
                        "text/plain": [
                            "<Figure size 432x288 with 2 Axes>"
                        ]
                    },
                    "metadata": {},
                    "output_type": "display_data"
                }
            ],
            "source": [
                "sns.heatmap(data.corr())"
            ]
        },
        {
            "cell_type": "code",
            "execution_count": 49,
            "metadata": {},
            "outputs": [],
            "source": [
                "y = data.SALE_PRC\n",
                "features = ['LATITUDE', 'LONGITUDE', 'PARCELNO', 'SALE_PRC', 'LND_SQFOOT',\n",
                "       'TOT_LVG_AREA', 'SPEC_FEAT_VAL', 'RAIL_DIST', 'OCEAN_DIST',\n",
                "       'WATER_DIST', 'CNTR_DIST', 'SUBCNTR_DI', 'HWY_DIST', 'age',\n",
                "       'avno60plus', 'month_sold', 'structure_quality']\n",
                "X = data[features]"
            ]
        },
        {
            "cell_type": "code",
            "execution_count": 50,
            "metadata": {},
            "outputs": [
                {
                    "data": {
                        "text/html": [
                            "<div>\n",
                            "<style scoped>\n",
                            "    .dataframe tbody tr th:only-of-type {\n",
                            "        vertical-align: middle;\n",
                            "    }\n",
                            "\n",
                            "    .dataframe tbody tr th {\n",
                            "        vertical-align: top;\n",
                            "    }\n",
                            "\n",
                            "    .dataframe thead th {\n",
                            "        text-align: right;\n",
                            "    }\n",
                            "</style>\n",
                            "<table border=\"1\" class=\"dataframe\">\n",
                            "  <thead>\n",
                            "    <tr style=\"text-align: right;\">\n",
                            "      <th></th>\n",
                            "      <th>LATITUDE</th>\n",
                            "      <th>LONGITUDE</th>\n",
                            "      <th>PARCELNO</th>\n",
                            "      <th>SALE_PRC</th>\n",
                            "      <th>LND_SQFOOT</th>\n",
                            "      <th>TOT_LVG_AREA</th>\n",
                            "      <th>SPEC_FEAT_VAL</th>\n",
                            "      <th>RAIL_DIST</th>\n",
                            "      <th>OCEAN_DIST</th>\n",
                            "      <th>WATER_DIST</th>\n",
                            "      <th>CNTR_DIST</th>\n",
                            "      <th>SUBCNTR_DI</th>\n",
                            "      <th>HWY_DIST</th>\n",
                            "      <th>age</th>\n",
                            "      <th>avno60plus</th>\n",
                            "      <th>month_sold</th>\n",
                            "      <th>structure_quality</th>\n",
                            "    </tr>\n",
                            "  </thead>\n",
                            "  <tbody>\n",
                            "    <tr>\n",
                            "      <th>count</th>\n",
                            "      <td>13932.000000</td>\n",
                            "      <td>13932.000000</td>\n",
                            "      <td>1.393200e+04</td>\n",
                            "      <td>1.393200e+04</td>\n",
                            "      <td>13932.000000</td>\n",
                            "      <td>13932.000000</td>\n",
                            "      <td>13932.000000</td>\n",
                            "      <td>13932.000000</td>\n",
                            "      <td>13932.000000</td>\n",
                            "      <td>13932.000000</td>\n",
                            "      <td>13932.000000</td>\n",
                            "      <td>13932.000000</td>\n",
                            "      <td>13932.000000</td>\n",
                            "      <td>13932.000000</td>\n",
                            "      <td>13932.000000</td>\n",
                            "      <td>13932.000000</td>\n",
                            "      <td>13932.000000</td>\n",
                            "    </tr>\n",
                            "    <tr>\n",
                            "      <th>mean</th>\n",
                            "      <td>25.728811</td>\n",
                            "      <td>-80.327475</td>\n",
                            "      <td>2.356496e+12</td>\n",
                            "      <td>3.999419e+05</td>\n",
                            "      <td>8620.879917</td>\n",
                            "      <td>2058.044574</td>\n",
                            "      <td>9562.493468</td>\n",
                            "      <td>8348.548715</td>\n",
                            "      <td>31690.993798</td>\n",
                            "      <td>11960.285235</td>\n",
                            "      <td>68490.327132</td>\n",
                            "      <td>41115.047265</td>\n",
                            "      <td>7723.770693</td>\n",
                            "      <td>30.669251</td>\n",
                            "      <td>0.014930</td>\n",
                            "      <td>6.655828</td>\n",
                            "      <td>3.513997</td>\n",
                            "    </tr>\n",
                            "    <tr>\n",
                            "      <th>std</th>\n",
                            "      <td>0.140633</td>\n",
                            "      <td>0.089199</td>\n",
                            "      <td>1.199290e+12</td>\n",
                            "      <td>3.172147e+05</td>\n",
                            "      <td>6070.088742</td>\n",
                            "      <td>813.538535</td>\n",
                            "      <td>13890.967782</td>\n",
                            "      <td>6178.027333</td>\n",
                            "      <td>17595.079468</td>\n",
                            "      <td>11932.992369</td>\n",
                            "      <td>32008.474808</td>\n",
                            "      <td>22161.825935</td>\n",
                            "      <td>6068.936108</td>\n",
                            "      <td>21.153068</td>\n",
                            "      <td>0.121276</td>\n",
                            "      <td>3.301523</td>\n",
                            "      <td>1.097444</td>\n",
                            "    </tr>\n",
                            "    <tr>\n",
                            "      <th>min</th>\n",
                            "      <td>25.434333</td>\n",
                            "      <td>-80.542172</td>\n",
                            "      <td>1.020008e+11</td>\n",
                            "      <td>7.200000e+04</td>\n",
                            "      <td>1248.000000</td>\n",
                            "      <td>854.000000</td>\n",
                            "      <td>0.000000</td>\n",
                            "      <td>10.500000</td>\n",
                            "      <td>236.100000</td>\n",
                            "      <td>0.000000</td>\n",
                            "      <td>3825.600000</td>\n",
                            "      <td>1462.800000</td>\n",
                            "      <td>90.200000</td>\n",
                            "      <td>0.000000</td>\n",
                            "      <td>0.000000</td>\n",
                            "      <td>1.000000</td>\n",
                            "      <td>1.000000</td>\n",
                            "    </tr>\n",
                            "    <tr>\n",
                            "      <th>25%</th>\n",
                            "      <td>25.620056</td>\n",
                            "      <td>-80.403278</td>\n",
                            "      <td>1.079160e+12</td>\n",
                            "      <td>2.350000e+05</td>\n",
                            "      <td>5400.000000</td>\n",
                            "      <td>1470.000000</td>\n",
                            "      <td>810.000000</td>\n",
                            "      <td>3299.450000</td>\n",
                            "      <td>18079.350000</td>\n",
                            "      <td>2675.850000</td>\n",
                            "      <td>42823.100000</td>\n",
                            "      <td>23996.250000</td>\n",
                            "      <td>2998.125000</td>\n",
                            "      <td>14.000000</td>\n",
                            "      <td>0.000000</td>\n",
                            "      <td>4.000000</td>\n",
                            "      <td>2.000000</td>\n",
                            "    </tr>\n",
                            "    <tr>\n",
                            "      <th>50%</th>\n",
                            "      <td>25.731810</td>\n",
                            "      <td>-80.338911</td>\n",
                            "      <td>3.040300e+12</td>\n",
                            "      <td>3.100000e+05</td>\n",
                            "      <td>7500.000000</td>\n",
                            "      <td>1877.500000</td>\n",
                            "      <td>2765.500000</td>\n",
                            "      <td>7106.300000</td>\n",
                            "      <td>28541.750000</td>\n",
                            "      <td>6922.600000</td>\n",
                            "      <td>65852.400000</td>\n",
                            "      <td>41109.900000</td>\n",
                            "      <td>6159.750000</td>\n",
                            "      <td>26.000000</td>\n",
                            "      <td>0.000000</td>\n",
                            "      <td>7.000000</td>\n",
                            "      <td>4.000000</td>\n",
                            "    </tr>\n",
                            "    <tr>\n",
                            "      <th>75%</th>\n",
                            "      <td>25.852269</td>\n",
                            "      <td>-80.258019</td>\n",
                            "      <td>3.060170e+12</td>\n",
                            "      <td>4.280000e+05</td>\n",
                            "      <td>9126.250000</td>\n",
                            "      <td>2471.000000</td>\n",
                            "      <td>12352.250000</td>\n",
                            "      <td>12102.600000</td>\n",
                            "      <td>44310.650000</td>\n",
                            "      <td>19200.000000</td>\n",
                            "      <td>89358.325000</td>\n",
                            "      <td>53949.375000</td>\n",
                            "      <td>10854.200000</td>\n",
                            "      <td>46.000000</td>\n",
                            "      <td>0.000000</td>\n",
                            "      <td>9.000000</td>\n",
                            "      <td>4.000000</td>\n",
                            "    </tr>\n",
                            "    <tr>\n",
                            "      <th>max</th>\n",
                            "      <td>25.974382</td>\n",
                            "      <td>-80.119746</td>\n",
                            "      <td>3.660170e+12</td>\n",
                            "      <td>2.650000e+06</td>\n",
                            "      <td>57064.000000</td>\n",
                            "      <td>6287.000000</td>\n",
                            "      <td>175020.000000</td>\n",
                            "      <td>29621.500000</td>\n",
                            "      <td>75744.900000</td>\n",
                            "      <td>50399.800000</td>\n",
                            "      <td>159976.500000</td>\n",
                            "      <td>110553.800000</td>\n",
                            "      <td>48167.300000</td>\n",
                            "      <td>96.000000</td>\n",
                            "      <td>1.000000</td>\n",
                            "      <td>12.000000</td>\n",
                            "      <td>5.000000</td>\n",
                            "    </tr>\n",
                            "  </tbody>\n",
                            "</table>\n",
                            "</div>"
                        ],
                        "text/plain": [
                            "           LATITUDE     LONGITUDE      PARCELNO      SALE_PRC    LND_SQFOOT  \\\n",
                            "count  13932.000000  13932.000000  1.393200e+04  1.393200e+04  13932.000000   \n",
                            "mean      25.728811    -80.327475  2.356496e+12  3.999419e+05   8620.879917   \n",
                            "std        0.140633      0.089199  1.199290e+12  3.172147e+05   6070.088742   \n",
                            "min       25.434333    -80.542172  1.020008e+11  7.200000e+04   1248.000000   \n",
                            "25%       25.620056    -80.403278  1.079160e+12  2.350000e+05   5400.000000   \n",
                            "50%       25.731810    -80.338911  3.040300e+12  3.100000e+05   7500.000000   \n",
                            "75%       25.852269    -80.258019  3.060170e+12  4.280000e+05   9126.250000   \n",
                            "max       25.974382    -80.119746  3.660170e+12  2.650000e+06  57064.000000   \n",
                            "\n",
                            "       TOT_LVG_AREA  SPEC_FEAT_VAL     RAIL_DIST    OCEAN_DIST    WATER_DIST  \\\n",
                            "count  13932.000000   13932.000000  13932.000000  13932.000000  13932.000000   \n",
                            "mean    2058.044574    9562.493468   8348.548715  31690.993798  11960.285235   \n",
                            "std      813.538535   13890.967782   6178.027333  17595.079468  11932.992369   \n",
                            "min      854.000000       0.000000     10.500000    236.100000      0.000000   \n",
                            "25%     1470.000000     810.000000   3299.450000  18079.350000   2675.850000   \n",
                            "50%     1877.500000    2765.500000   7106.300000  28541.750000   6922.600000   \n",
                            "75%     2471.000000   12352.250000  12102.600000  44310.650000  19200.000000   \n",
                            "max     6287.000000  175020.000000  29621.500000  75744.900000  50399.800000   \n",
                            "\n",
                            "           CNTR_DIST     SUBCNTR_DI      HWY_DIST           age    avno60plus  \\\n",
                            "count   13932.000000   13932.000000  13932.000000  13932.000000  13932.000000   \n",
                            "mean    68490.327132   41115.047265   7723.770693     30.669251      0.014930   \n",
                            "std     32008.474808   22161.825935   6068.936108     21.153068      0.121276   \n",
                            "min      3825.600000    1462.800000     90.200000      0.000000      0.000000   \n",
                            "25%     42823.100000   23996.250000   2998.125000     14.000000      0.000000   \n",
                            "50%     65852.400000   41109.900000   6159.750000     26.000000      0.000000   \n",
                            "75%     89358.325000   53949.375000  10854.200000     46.000000      0.000000   \n",
                            "max    159976.500000  110553.800000  48167.300000     96.000000      1.000000   \n",
                            "\n",
                            "         month_sold  structure_quality  \n",
                            "count  13932.000000       13932.000000  \n",
                            "mean       6.655828           3.513997  \n",
                            "std        3.301523           1.097444  \n",
                            "min        1.000000           1.000000  \n",
                            "25%        4.000000           2.000000  \n",
                            "50%        7.000000           4.000000  \n",
                            "75%        9.000000           4.000000  \n",
                            "max       12.000000           5.000000  "
                        ]
                    },
                    "execution_count": 50,
                    "metadata": {},
                    "output_type": "execute_result"
                }
            ],
            "source": [
                "X.describe()"
            ]
        },
        {
            "cell_type": "code",
            "execution_count": 51,
            "metadata": {},
            "outputs": [
                {
                    "data": {
                        "text/html": [
                            "<div>\n",
                            "<style scoped>\n",
                            "    .dataframe tbody tr th:only-of-type {\n",
                            "        vertical-align: middle;\n",
                            "    }\n",
                            "\n",
                            "    .dataframe tbody tr th {\n",
                            "        vertical-align: top;\n",
                            "    }\n",
                            "\n",
                            "    .dataframe thead th {\n",
                            "        text-align: right;\n",
                            "    }\n",
                            "</style>\n",
                            "<table border=\"1\" class=\"dataframe\">\n",
                            "  <thead>\n",
                            "    <tr style=\"text-align: right;\">\n",
                            "      <th></th>\n",
                            "      <th>LATITUDE</th>\n",
                            "      <th>LONGITUDE</th>\n",
                            "      <th>PARCELNO</th>\n",
                            "      <th>SALE_PRC</th>\n",
                            "      <th>LND_SQFOOT</th>\n",
                            "      <th>TOT_LVG_AREA</th>\n",
                            "      <th>SPEC_FEAT_VAL</th>\n",
                            "      <th>RAIL_DIST</th>\n",
                            "      <th>OCEAN_DIST</th>\n",
                            "      <th>WATER_DIST</th>\n",
                            "      <th>CNTR_DIST</th>\n",
                            "      <th>SUBCNTR_DI</th>\n",
                            "      <th>HWY_DIST</th>\n",
                            "      <th>age</th>\n",
                            "      <th>avno60plus</th>\n",
                            "      <th>month_sold</th>\n",
                            "      <th>structure_quality</th>\n",
                            "    </tr>\n",
                            "  </thead>\n",
                            "  <tbody>\n",
                            "    <tr>\n",
                            "      <th>0</th>\n",
                            "      <td>25.891031</td>\n",
                            "      <td>-80.160561</td>\n",
                            "      <td>622280070620</td>\n",
                            "      <td>440000.0</td>\n",
                            "      <td>9375</td>\n",
                            "      <td>1753</td>\n",
                            "      <td>0</td>\n",
                            "      <td>2815.9</td>\n",
                            "      <td>12811.4</td>\n",
                            "      <td>347.6</td>\n",
                            "      <td>42815.3</td>\n",
                            "      <td>37742.2</td>\n",
                            "      <td>15954.9</td>\n",
                            "      <td>67</td>\n",
                            "      <td>0</td>\n",
                            "      <td>8</td>\n",
                            "      <td>4</td>\n",
                            "    </tr>\n",
                            "    <tr>\n",
                            "      <th>1</th>\n",
                            "      <td>25.891324</td>\n",
                            "      <td>-80.153968</td>\n",
                            "      <td>622280100460</td>\n",
                            "      <td>349000.0</td>\n",
                            "      <td>9375</td>\n",
                            "      <td>1715</td>\n",
                            "      <td>0</td>\n",
                            "      <td>4359.1</td>\n",
                            "      <td>10648.4</td>\n",
                            "      <td>337.8</td>\n",
                            "      <td>43504.9</td>\n",
                            "      <td>37340.5</td>\n",
                            "      <td>18125.0</td>\n",
                            "      <td>63</td>\n",
                            "      <td>0</td>\n",
                            "      <td>9</td>\n",
                            "      <td>4</td>\n",
                            "    </tr>\n",
                            "    <tr>\n",
                            "      <th>2</th>\n",
                            "      <td>25.891334</td>\n",
                            "      <td>-80.153740</td>\n",
                            "      <td>622280100470</td>\n",
                            "      <td>800000.0</td>\n",
                            "      <td>9375</td>\n",
                            "      <td>2276</td>\n",
                            "      <td>49206</td>\n",
                            "      <td>4412.9</td>\n",
                            "      <td>10574.1</td>\n",
                            "      <td>297.1</td>\n",
                            "      <td>43530.4</td>\n",
                            "      <td>37328.7</td>\n",
                            "      <td>18200.5</td>\n",
                            "      <td>61</td>\n",
                            "      <td>0</td>\n",
                            "      <td>2</td>\n",
                            "      <td>4</td>\n",
                            "    </tr>\n",
                            "    <tr>\n",
                            "      <th>3</th>\n",
                            "      <td>25.891765</td>\n",
                            "      <td>-80.152657</td>\n",
                            "      <td>622280100530</td>\n",
                            "      <td>988000.0</td>\n",
                            "      <td>12450</td>\n",
                            "      <td>2058</td>\n",
                            "      <td>10033</td>\n",
                            "      <td>4585.0</td>\n",
                            "      <td>10156.5</td>\n",
                            "      <td>0.0</td>\n",
                            "      <td>43797.5</td>\n",
                            "      <td>37423.2</td>\n",
                            "      <td>18514.4</td>\n",
                            "      <td>63</td>\n",
                            "      <td>0</td>\n",
                            "      <td>9</td>\n",
                            "      <td>4</td>\n",
                            "    </tr>\n",
                            "    <tr>\n",
                            "      <th>4</th>\n",
                            "      <td>25.891825</td>\n",
                            "      <td>-80.154639</td>\n",
                            "      <td>622280100200</td>\n",
                            "      <td>755000.0</td>\n",
                            "      <td>12800</td>\n",
                            "      <td>1684</td>\n",
                            "      <td>16681</td>\n",
                            "      <td>4063.4</td>\n",
                            "      <td>10836.8</td>\n",
                            "      <td>326.6</td>\n",
                            "      <td>43599.7</td>\n",
                            "      <td>37550.8</td>\n",
                            "      <td>17903.4</td>\n",
                            "      <td>42</td>\n",
                            "      <td>0</td>\n",
                            "      <td>7</td>\n",
                            "      <td>4</td>\n",
                            "    </tr>\n",
                            "  </tbody>\n",
                            "</table>\n",
                            "</div>"
                        ],
                        "text/plain": [
                            "    LATITUDE  LONGITUDE      PARCELNO  SALE_PRC  LND_SQFOOT  TOT_LVG_AREA  \\\n",
                            "0  25.891031 -80.160561  622280070620  440000.0        9375          1753   \n",
                            "1  25.891324 -80.153968  622280100460  349000.0        9375          1715   \n",
                            "2  25.891334 -80.153740  622280100470  800000.0        9375          2276   \n",
                            "3  25.891765 -80.152657  622280100530  988000.0       12450          2058   \n",
                            "4  25.891825 -80.154639  622280100200  755000.0       12800          1684   \n",
                            "\n",
                            "   SPEC_FEAT_VAL  RAIL_DIST  OCEAN_DIST  WATER_DIST  CNTR_DIST  SUBCNTR_DI  \\\n",
                            "0              0     2815.9     12811.4       347.6    42815.3     37742.2   \n",
                            "1              0     4359.1     10648.4       337.8    43504.9     37340.5   \n",
                            "2          49206     4412.9     10574.1       297.1    43530.4     37328.7   \n",
                            "3          10033     4585.0     10156.5         0.0    43797.5     37423.2   \n",
                            "4          16681     4063.4     10836.8       326.6    43599.7     37550.8   \n",
                            "\n",
                            "   HWY_DIST  age  avno60plus  month_sold  structure_quality  \n",
                            "0   15954.9   67           0           8                  4  \n",
                            "1   18125.0   63           0           9                  4  \n",
                            "2   18200.5   61           0           2                  4  \n",
                            "3   18514.4   63           0           9                  4  \n",
                            "4   17903.4   42           0           7                  4  "
                        ]
                    },
                    "execution_count": 51,
                    "metadata": {},
                    "output_type": "execute_result"
                }
            ],
            "source": [
                "X.head()"
            ]
        },
        {
            "cell_type": "code",
            "execution_count": 78,
            "metadata": {},
            "outputs": [],
            "source": [
                "from sklearn.tree import DecisionTreeRegressor\n",
                "model = DecisionTreeRegressor(random_state = 10)"
            ]
        },
        {
            "cell_type": "code",
            "execution_count": 79,
            "metadata": {},
            "outputs": [],
            "source": [
                "from sklearn.model_selection import train_test_split\n",
                "X_train, X_test, y_train, y_test = train_test_split(X, y, test_size = 0.5, random_state = 101)"
            ]
        },
        {
            "cell_type": "code",
            "execution_count": 80,
            "metadata": {},
            "outputs": [
                {
                    "data": {
                        "text/plain": [
                            "DecisionTreeRegressor(random_state=10)"
                        ]
                    },
                    "execution_count": 80,
                    "metadata": {},
                    "output_type": "execute_result"
                }
            ],
            "source": [
                "model.fit(X_train, y_train)"
            ]
        },
        {
            "cell_type": "code",
            "execution_count": 81,
            "metadata": {},
            "outputs": [],
            "source": [
                "predictions = model.predict(X_test)"
            ]
        },
        {
            "cell_type": "code",
            "execution_count": 82,
            "metadata": {},
            "outputs": [
                {
                    "data": {
                        "text/plain": [
                            "array([ 260000.,  520000.,  390000., ...,  158000., 1365000.,  345000.])"
                        ]
                    },
                    "execution_count": 82,
                    "metadata": {},
                    "output_type": "execute_result"
                }
            ],
            "source": [
                "predictions"
            ]
        },
        {
            "cell_type": "code",
            "execution_count": 71,
            "metadata": {},
            "outputs": [
                {
                    "data": {
                        "text/plain": [
                            "<matplotlib.collections.PathCollection at 0x2384fb380d0>"
                        ]
                    },
                    "execution_count": 71,
                    "metadata": {},
                    "output_type": "execute_result"
                },
                {
                    "data": {
                        "image/png": "[encoded data removed]",
                        "text/plain": [
                            "<Figure size 432x288 with 1 Axes>"
                        ]
                    },
                    "metadata": {
                        "needs_background": "light"
                    },
                    "output_type": "display_data"
                }
            ],
            "source": [
                "plt.scatter(y_test, predictions)"
            ]
        },
        {
            "cell_type": "code",
            "execution_count": 72,
            "metadata": {},
            "outputs": [
                {
                    "name": "stderr",
                    "output_type": "stream",
                    "text": [
                        "C:\\Users\\proje\\anaconda3\\lib\\site-packages\\seaborn\\distributions.py:2557: FutureWarning: `distplot` is a deprecated function and will be removed in a future version. Please adapt your code to use either `displot` (a figure-level function with similar flexibility) or `histplot` (an axes-level function for histograms).\n",
                        "  warnings.warn(msg, FutureWarning)\n"
                    ]
                },
                {
                    "data": {
                        "text/plain": [
                            "<AxesSubplot:xlabel='SALE_PRC', ylabel='Density'>"
                        ]
                    },
                    "execution_count": 72,
                    "metadata": {},
                    "output_type": "execute_result"
                },
                {
                    "data": {
                        "image/png": "[encoded data removed]",
                        "text/plain": [
                            "<Figure size 432x288 with 1 Axes>"
                        ]
                    },
                    "metadata": {
                        "needs_background": "light"
                    },
                    "output_type": "display_data"
                }
            ],
            "source": [
                "sns.distplot((y_test-predictions), bins=50)"
            ]
        },
        {
            "cell_type": "code",
            "execution_count": 83,
            "metadata": {},
            "outputs": [
                {
                    "data": {
                        "text/plain": [
                            "0.8112259546368074"
                        ]
                    },
                    "execution_count": 83,
                    "metadata": {},
                    "output_type": "execute_result"
                }
            ],
            "source": [
                "from sklearn.metrics import accuracy_score\n",
                "score = accuracy_score(y_test, predictions)\n",
                "score"
            ]
        },
        {
            "cell_type": "code",
            "execution_count": 41,
            "metadata": {},
            "outputs": [
                {
                    "name": "stdout",
                    "output_type": "stream",
                    "text": [
                        "LATITUDE             float64\n",
                        "LONGITUDE            float64\n",
                        "PARCELNO               int64\n",
                        "SALE_PRC             float64\n",
                        "LND_SQFOOT             int64\n",
                        "TOT_LVG_AREA           int64\n",
                        "SPEC_FEAT_VAL          int64\n",
                        "RAIL_DIST            float64\n",
                        "OCEAN_DIST           float64\n",
                        "WATER_DIST           float64\n",
                        "CNTR_DIST            float64\n",
                        "SUBCNTR_DI           float64\n",
                        "HWY_DIST             float64\n",
                        "age                    int64\n",
                        "avno60plus             int64\n",
                        "month_sold             int64\n",
                        "structure_quality      int64\n",
                        "dtype: object\n"
                    ]
                }
            ],
            "source": [
                "print(data.dtypes)"
            ]
        },
        {
            "cell_type": "code",
            "execution_count": 60,
            "metadata": {},
            "outputs": [],
            "source": [
                "from sklearn.linear_model import LinearRegression # OLS algorithm\n",
                "from sklearn.linear_model import Ridge # Ridge algorithm\n",
                "from sklearn.linear_model import Lasso # Lasso algorithm\n",
                "from sklearn.linear_model import BayesianRidge # Bayesian algorithm\n",
                "from sklearn.linear_model import ElasticNet # ElasticNet algorithm"
            ]
        },
        {
            "cell_type": "markdown",
            "metadata": {},
            "source": [
                "Other Models"
            ]
        },
        {
            "cell_type": "code",
            "execution_count": 61,
            "metadata": {},
            "outputs": [
                {
                    "name": "stderr",
                    "output_type": "stream",
                    "text": [
                        "C:\\Users\\proje\\anaconda3\\lib\\site-packages\\sklearn\\linear_model\\_ridge.py:147: LinAlgWarning: Ill-conditioned matrix (rcond=1.22965e-28): result may not be accurate.\n",
                        "  return linalg.solve(A, Xy, sym_pos=True,\n"
                    ]
                }
            ],
            "source": [
                "# OLS\n",
                "ols = LinearRegression()\n",
                "ols.fit(X_train, y_train)\n",
                "ols_yhat = ols.predict(X_test)\n",
                "\n",
                "# Ridge\n",
                "\n",
                "ridge = Ridge(alpha = 0.5)\n",
                "ridge.fit(X_train, y_train)\n",
                "ridge_yhat = ridge.predict(X_test)\n",
                "\n",
                "# Lasso\n",
                "\n",
                "lasso = Lasso(alpha = 0.01)\n",
                "lasso.fit(X_train, y_train)\n",
                "lasso_yhat = lasso.predict(X_test)\n",
                "\n",
                "# Bayesian\n",
                "\n",
                "bayesian = BayesianRidge()\n",
                "bayesian.fit(X_train, y_train)\n",
                "bayesian_yhat = bayesian.predict(X_test)\n",
                "\n",
                "# ElasticNet\n",
                "\n",
                "en = ElasticNet(alpha = 0.01)\n",
                "en.fit(X_train, y_train)\n",
                "en_yhat = en.predict(X_test)"
            ]
        },
        {
            "cell_type": "code",
            "execution_count": 62,
            "metadata": {},
            "outputs": [],
            "source": [
                "from sklearn.metrics import explained_variance_score as evs"
            ]
        },
        {
            "cell_type": "code",
            "execution_count": 63,
            "metadata": {},
            "outputs": [
                {
                    "name": "stdout",
                    "output_type": "stream",
                    "text": [
                        "Explained Variance Score:\n",
                        "EVS - OLS: 1.0\n",
                        "EVS - Ridge: 1.0\n",
                        "EVS - Lasso: 0.9999999999999747\n",
                        "EVS - Bayesion: 0.9999919432801642\n",
                        "EVS - ElasticNet: 0.9999999999999565\n"
                    ]
                }
            ],
            "source": [
                "print('Explained Variance Score:')\n",
                "print('EVS - OLS: {}'.format(evs(y_test, ols_yhat)))\n",
                "print('EVS - Ridge: {}'.format(evs(y_test, ridge_yhat)))\n",
                "print('EVS - Lasso: {}'.format(evs(y_test, lasso_yhat)))\n",
                "print('EVS - Bayesion: {}'. format(evs(y_test, bayesian_yhat)))\n",
                "print('EVS - ElasticNet: {}'. format(evs(y_test, en_yhat)))"
            ]
        },
        {
            "cell_type": "code",
            "execution_count": 64,
            "metadata": {},
            "outputs": [],
            "source": [
                "from sklearn.metrics import r2_score as r2"
            ]
        },
        {
            "cell_type": "code",
            "execution_count": 65,
            "metadata": {},
            "outputs": [
                {
                    "name": "stdout",
                    "output_type": "stream",
                    "text": [
                        "R-SQUARED:\n",
                        "R-squared of OLS: 1.0\n",
                        "R-squared of Ridge: 1.0\n",
                        "R-squared of Lasso: 0.9999999999999747\n",
                        "R-squared of Bayesion: 0.9999919423834869\n",
                        "R-squared of ElasticNet: 0.9999999999999565\n"
                    ]
                }
            ],
            "source": [
                "# R-squared\n",
                "print('R-SQUARED:')\n",
                "print('R-squared of OLS: {}'.format(r2(y_test, ols_yhat)))\n",
                "print('R-squared of Ridge: {}'.format(r2(y_test, ridge_yhat)))\n",
                "print('R-squared of Lasso: {}'.format(r2(y_test, lasso_yhat)))\n",
                "print('R-squared of Bayesion: {}'.format(r2(y_test, bayesian_yhat)))\n",
                "print('R-squared of ElasticNet: {}'.format(r2(y_test, en_yhat)))"
            ]
        }
    ],
    "metadata": {
        "interpreter": {
            "hash": "ec4fcc1b127deb3a19ee80344fe3baab8a8ddb2dcb99d88746cb4f5a23c979cc"
        },
        "kernelspec": {
            "display_name": "Python 3.8.8 64-bit ('base': conda)",
            "name": "python3"
        },
        "language_info": {
            "codemirror_mode": {
                "name": "ipython",
                "version": 3
            },
            "file_extension": ".py",
            "mimetype": "text/x-python",
            "name": "python",
            "nbconvert_exporter": "python",
            "pygments_lexer": "ipython3",
            "version": "3.8.8"
        }
    },
    "nbformat": 4,
    "nbformat_minor": 2
}
